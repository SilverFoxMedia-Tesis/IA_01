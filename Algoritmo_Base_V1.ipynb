{
  "nbformat": 4,
  "nbformat_minor": 0,
  "metadata": {
    "colab": {
      "provenance": [],
      "include_colab_link": true
    },
    "kernelspec": {
      "name": "python3",
      "display_name": "Python 3"
    },
    "language_info": {
      "name": "python"
    }
  },
  "cells": [
    {
      "cell_type": "markdown",
      "metadata": {
        "id": "view-in-github",
        "colab_type": "text"
      },
      "source": [
        "<a href=\"https://colab.research.google.com/github/SilverFoxMedia-Tesis/IA_01/blob/main/Algoritmo_Base_V1.ipynb\" target=\"_parent\"><img src=\"https://colab.research.google.com/assets/colab-badge.svg\" alt=\"Open In Colab\"/></a>"
      ]
    },
    {
      "cell_type": "code",
      "execution_count": null,
      "metadata": {
        "id": "Gm8KAAwLncN2"
      },
      "outputs": [],
      "source": [
        "import pandas as pd\n",
        "import numpy as np\n",
        "import matplotlib.pyplot as plt"
      ]
    },
    {
      "cell_type": "code",
      "source": [
        "#Lectura de datos\n",
        "train2 = pd.read_csv('/megaGymDataset.csv')\n",
        "test2 = pd.read_csv('/megaGymDataset.csv')"
      ],
      "metadata": {
        "id": "pEmq1hhAKoZE"
      },
      "execution_count": null,
      "outputs": []
    },
    {
      "cell_type": "code",
      "source": [
        "#Lectura de datos\n",
        "train = pd.read_csv('/ObesityDataSet_raw_and_data_sinthetic.csv')\n",
        "test = pd.read_csv('/ObesityDataSet_raw_and_data_sinthetic.csv')"
      ],
      "metadata": {
        "id": "CDxdxTqvtw8t"
      },
      "execution_count": null,
      "outputs": []
    },
    {
      "cell_type": "code",
      "source": [
        "lista_de_niveles = train2['Level'].tolist()"
      ],
      "metadata": {
        "id": "zhEHtPUIMQNa"
      },
      "execution_count": null,
      "outputs": []
    },
    {
      "cell_type": "code",
      "source": [
        "unique_levels = []\n",
        "for ejercicio in lista_de_niveles:\n",
        "  if ejercicio not in unique_levels:\n",
        "    unique_levels.append(ejercicio)\n",
        "\n",
        "print(unique_levels)"
      ],
      "metadata": {
        "colab": {
          "base_uri": "https://localhost:8080/"
        },
        "id": "rQvYFJO9Mqe6",
        "outputId": "0f025d96-90a7-4d8f-f43e-6da692a56cb9"
      },
      "execution_count": null,
      "outputs": [
        {
          "output_type": "stream",
          "name": "stdout",
          "text": [
            "['Intermediate', 'Beginner', 'Expert']\n"
          ]
        }
      ]
    },
    {
      "cell_type": "code",
      "source": [
        "lista_de_niveles_peso = train['NObeyesdad'].tolist()"
      ],
      "metadata": {
        "id": "ra1p8gbPPSzG"
      },
      "execution_count": null,
      "outputs": []
    },
    {
      "cell_type": "code",
      "source": [
        "unique_type_state = []\n",
        "for state in lista_de_niveles_peso:\n",
        "  if state not in unique_type_state:\n",
        "    unique_type_state.append(state)\n",
        "\n",
        "print(unique_type_state)"
      ],
      "metadata": {
        "colab": {
          "base_uri": "https://localhost:8080/"
        },
        "id": "QfZjQUCcOqgS",
        "outputId": "e945ef56-79ee-4499-aad6-eb13709550be"
      },
      "execution_count": null,
      "outputs": [
        {
          "output_type": "stream",
          "name": "stdout",
          "text": [
            "['Normal_Weight', 'Overweight_Level_I', 'Overweight_Level_II', 'Obesity_Type_I', 'Insufficient_Weight', 'Obesity_Type_II', 'Obesity_Type_III']\n"
          ]
        }
      ]
    },
    {
      "cell_type": "markdown",
      "source": [
        "**Atributos relacionados con el peso:**\n",
        "\n",
        "- *Calories consumption monitoring (SCC)*\n",
        "-- YES\n",
        "-- NO\n",
        "\n",
        "\n",
        "- *Physical activity frequency (FAF)*\n",
        "-- NUMERIC\n",
        "\n",
        "- *Time using technology devices (TUE)*\n",
        "-- NUMERIC\n",
        "\n",
        "- *Transportation used (MTRANS)*\n",
        "-- AUTOMOBILE\n",
        "-- MOTORBIKE\n",
        "-- BIKE\n",
        "-- PUBLIC_TRANSPORTATION\n",
        "-- WALKING"
      ],
      "metadata": {
        "id": "eDBeIMrpQh9Y"
      }
    },
    {
      "cell_type": "markdown",
      "source": [
        "**Atributos relacionados con la alimentacion:**\n",
        "\n",
        "- *Frequent consumption of high caloric food (FAVC)*\n",
        "-- YES\n",
        "-- NO\n",
        "\n",
        "\n",
        "- *Frequency of consumption of vegetables (FCVC)*\n",
        "-- NUMERIC\n",
        "\n",
        "\n",
        "- *Number of main meals (NCP)*\n",
        "-- NUMERIC\n",
        "\n",
        "- *Consumption of food between meals (CAEC)*\n",
        "-- NO\n",
        "-- SOMETIMES\n",
        "-- FREQUENTLY\n",
        "-- ALWAYS\n",
        "\n",
        "- *Consumption of water daily (CH20)*\n",
        "-- NUMERIC\n",
        "\n",
        "- *Consumption of alcohol (CALC)*\n",
        "-- NO\n",
        "-- SOMETIMES\n",
        "-- FRECUENTLY\n",
        "-- ALWAYS"
      ],
      "metadata": {
        "id": "gIWPH-H5oRbd"
      }
    },
    {
      "cell_type": "markdown",
      "source": [
        "**VARIABLES POR INDICE DE MASA CORPORAL**\n",
        "\n",
        "*IMC = ALTURA / PESO^2*\n",
        "\n",
        "- **Debajo del peso ideal:** Menos de 18.5\n",
        "- **Normal:** 18.5 - 24.9\n",
        "- **Sobrepeso:** 25.0 - 29.9\n",
        "- **Obesidad 1:** 30.0 - 34.9\n",
        "- **Obesidad 2:** 35.0 - 39.9\n",
        "- **Obesidad 3:** Más de 40\n"
      ],
      "metadata": {
        "id": "3LoQmcoJ5wiB"
      }
    },
    {
      "cell_type": "code",
      "source": [],
      "metadata": {
        "id": "Y1YwRtLpQ53V"
      },
      "execution_count": null,
      "outputs": []
    }
  ]
}