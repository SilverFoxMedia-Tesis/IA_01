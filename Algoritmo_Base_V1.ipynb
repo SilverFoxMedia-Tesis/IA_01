{
  "nbformat": 4,
  "nbformat_minor": 0,
  "metadata": {
    "colab": {
      "provenance": [],
      "include_colab_link": true
    },
    "kernelspec": {
      "name": "python3",
      "display_name": "Python 3"
    },
    "language_info": {
      "name": "python"
    }
  },
  "cells": [
    {
      "cell_type": "markdown",
      "metadata": {
        "id": "view-in-github",
        "colab_type": "text"
      },
      "source": [
        "<a href=\"https://colab.research.google.com/github/SilverFoxMedia-Tesis/IA_01/blob/main/Algoritmo_Base_V1.ipynb\" target=\"_parent\"><img src=\"https://colab.research.google.com/assets/colab-badge.svg\" alt=\"Open In Colab\"/></a>"
      ]
    },
    {
      "cell_type": "code",
      "execution_count": 22,
      "metadata": {
        "id": "Gm8KAAwLncN2"
      },
      "outputs": [],
      "source": [
        "import pandas as pd\n",
        "import numpy as np\n",
        "import matplotlib.pyplot as plt"
      ]
    },
    {
      "cell_type": "code",
      "source": [
        "#Lectura de datos\n",
        "train = pd.read_csv('/ObesityDataSet_raw_and_data_sinthetic.csv')\n",
        "test = pd.read_csv('/ObesityDataSet_raw_and_data_sinthetic.csv')"
      ],
      "metadata": {
        "id": "CDxdxTqvtw8t"
      },
      "execution_count": 23,
      "outputs": []
    },
    {
      "cell_type": "code",
      "source": [
        "train.head(5)"
      ],
      "metadata": {
        "id": "q4iSVaKGahQ4"
      },
      "execution_count": null,
      "outputs": []
    },
    {
      "cell_type": "markdown",
      "source": [
        "VARIABLES POR INDICE DE MASA CORPORAL\n",
        "\n",
        "IMC = ALTURA / PESO^2\n",
        "\n",
        "Debajo del peso ideal: Menos de 18.5\n",
        "\n",
        "Normal: 18.5 - 24.9\n",
        "\n",
        "Sobrepeso: 25.0 - 29.9\n",
        "\n",
        "Obesidad 1: 30.0 - 34.9\n",
        "\n",
        "Obesidad 2: 35.0 - 39.9\n",
        "\n",
        "Obesidad 3: Más de 40"
      ],
      "metadata": {
        "id": "Yoq9yzwko7nS"
      }
    },
    {
      "cell_type": "code",
      "source": [
        "train.drop(columns=['Puntos_Nivel'], inplace=True)\n",
        "# LIMPIAR CACHE"
      ],
      "metadata": {
        "id": "HmFPYBMnwpnx"
      },
      "execution_count": 126,
      "outputs": []
    },
    {
      "cell_type": "code",
      "source": [
        "estadoxvalores = {\n",
        "    \"Insufficient_Weight\": 0,\n",
        "    \"Normal_Weight\": 0,\n",
        "    \"Overweight_Level_I\": -1,\n",
        "    \"Overweight_Level_II\": -2,\n",
        "    \"Obesity_Type_I\": -3,\n",
        "    \"Obesity_Type_II\": -4,\n",
        "    \"Obesity_Type_III\": -5,\n",
        "}\n",
        "FAFxvalores = {\n",
        "    3 : 1,\n",
        "    2 : 0,\n",
        "    1 : -1,\n",
        "    0 : -2,\n",
        "}\n",
        "TUExvalores = {\n",
        "    0 : 0,\n",
        "    1 : -1,\n",
        "    2 : -2,\n",
        "}\n",
        "MTRANSxvalores = {\n",
        "    \"Bike\": 2,\n",
        "    \"Walking\": 1,\n",
        "    \"Public_Transportation\": 0,\n",
        "    \"Motorbike\": -1,\n",
        "    \"Automobile\": -2,\n",
        "}\n",
        "train['Puntos_Nivel'] = train['MTRANS'].map(MTRANSxvalores) + train['NObeyesdad'].map(estadoxvalores) + train['TUE'].apply(lambda x: TUExvalores.get(int(x), 0)) + train['FAF'].apply(lambda x: FAFxvalores.get(int(x), 2))\n",
        "def encontrar_nivel(puntos_nivel):\n",
        "    if -11 <= puntos_nivel <= -7:\n",
        "        return \"Beginner\"\n",
        "    elif -6 <= puntos_nivel <= -2:\n",
        "        return \"Intermediate\"\n",
        "    elif -1 <= puntos_nivel <= 3:\n",
        "        return \"Expert\"\n",
        "    else:\n",
        "        return \"Desconocido\"\n",
        "\n",
        "train['Nivel'] = train['Puntos_Nivel'].apply(encontrar_nivel)\n",
        "\n",
        "print(train)"
      ],
      "metadata": {
        "colab": {
          "base_uri": "https://localhost:8080/"
        },
        "id": "5ZkW55Dpy8s4",
        "outputId": "875227fb-78f3-420a-dfaa-188cba896235"
      },
      "execution_count": 127,
      "outputs": [
        {
          "output_type": "stream",
          "name": "stdout",
          "text": [
            "      Gender        Age    Height      Weight family_history_with_overweight  \\\n",
            "0     Female  21.000000  1.620000   64.000000                            yes   \n",
            "1     Female  21.000000  1.520000   56.000000                            yes   \n",
            "2       Male  23.000000  1.800000   77.000000                            yes   \n",
            "3       Male  27.000000  1.800000   87.000000                             no   \n",
            "4       Male  22.000000  1.780000   89.800000                             no   \n",
            "...      ...        ...       ...         ...                            ...   \n",
            "2106  Female  20.976842  1.710730  131.408528                            yes   \n",
            "2107  Female  21.982942  1.748584  133.742943                            yes   \n",
            "2108  Female  22.524036  1.752206  133.689352                            yes   \n",
            "2109  Female  24.361936  1.739450  133.346641                            yes   \n",
            "2110  Female  23.664709  1.738836  133.472641                            yes   \n",
            "\n",
            "     FAVC  FCVC  NCP       CAEC SMOKE      CH2O  SCC       FAF       TUE  \\\n",
            "0      no   2.0  3.0  Sometimes    no  2.000000   no  0.000000  1.000000   \n",
            "1      no   3.0  3.0  Sometimes   yes  3.000000  yes  3.000000  0.000000   \n",
            "2      no   2.0  3.0  Sometimes    no  2.000000   no  2.000000  1.000000   \n",
            "3      no   3.0  3.0  Sometimes    no  2.000000   no  2.000000  0.000000   \n",
            "4      no   2.0  1.0  Sometimes    no  2.000000   no  0.000000  0.000000   \n",
            "...   ...   ...  ...        ...   ...       ...  ...       ...       ...   \n",
            "2106  yes   3.0  3.0  Sometimes    no  1.728139   no  1.676269  0.906247   \n",
            "2107  yes   3.0  3.0  Sometimes    no  2.005130   no  1.341390  0.599270   \n",
            "2108  yes   3.0  3.0  Sometimes    no  2.054193   no  1.414209  0.646288   \n",
            "2109  yes   3.0  3.0  Sometimes    no  2.852339   no  1.139107  0.586035   \n",
            "2110  yes   3.0  3.0  Sometimes    no  2.863513   no  1.026452  0.714137   \n",
            "\n",
            "            CALC                 MTRANS           NObeyesdad  Puntos_Nivel  \\\n",
            "0             no  Public_Transportation        Normal_Weight            -3   \n",
            "1      Sometimes  Public_Transportation        Normal_Weight             1   \n",
            "2     Frequently  Public_Transportation        Normal_Weight            -1   \n",
            "3     Frequently                Walking   Overweight_Level_I             0   \n",
            "4      Sometimes  Public_Transportation  Overweight_Level_II            -4   \n",
            "...          ...                    ...                  ...           ...   \n",
            "2106   Sometimes  Public_Transportation     Obesity_Type_III            -6   \n",
            "2107   Sometimes  Public_Transportation     Obesity_Type_III            -6   \n",
            "2108   Sometimes  Public_Transportation     Obesity_Type_III            -6   \n",
            "2109   Sometimes  Public_Transportation     Obesity_Type_III            -6   \n",
            "2110   Sometimes  Public_Transportation     Obesity_Type_III            -6   \n",
            "\n",
            "             Nivel  \n",
            "0     Intermediate  \n",
            "1           Expert  \n",
            "2           Expert  \n",
            "3           Expert  \n",
            "4     Intermediate  \n",
            "...            ...  \n",
            "2106  Intermediate  \n",
            "2107  Intermediate  \n",
            "2108  Intermediate  \n",
            "2109  Intermediate  \n",
            "2110  Intermediate  \n",
            "\n",
            "[2111 rows x 19 columns]\n"
          ]
        }
      ]
    },
    {
      "cell_type": "markdown",
      "source": [
        "-11 <= BEGINNER <= -7\n",
        "\n",
        "-6 <= INTERMEDIATE <= -2\n",
        "\n",
        "-1 <= EXPERT <= 3"
      ],
      "metadata": {
        "id": "r2CPZQVa2Juz"
      }
    },
    {
      "cell_type": "markdown",
      "source": [
        "**Atributos relacionados con el peso:**\n",
        "\n",
        "- *Calories consumption monitoring (SCC)*\n",
        "-- YES\n",
        "-- NO\n",
        "\n",
        "\n",
        "- *Physical activity frequency (FAF)*\n",
        "-- NUMERIC\n",
        "\n",
        "- *Time using technology devices (TUE)*\n",
        "-- NUMERIC\n",
        "\n",
        "- *Transportation used (MTRANS)*\n",
        "-- AUTOMOBILE\n",
        "-- MOTORBIKE\n",
        "-- BIKE\n",
        "-- PUBLIC_TRANSPORTATION\n",
        "-- WALKING"
      ],
      "metadata": {
        "id": "eDBeIMrpQh9Y"
      }
    },
    {
      "cell_type": "code",
      "source": [
        "#Lectura de datos\n",
        "train2 = pd.read_csv('/megaGymDataset.csv')\n",
        "test2 = pd.read_csv('/megaGymDataset.csv')"
      ],
      "metadata": {
        "id": "e8sl6KCAgpfu"
      },
      "execution_count": 38,
      "outputs": []
    },
    {
      "cell_type": "code",
      "source": [
        "train2.head(5)"
      ],
      "metadata": {
        "colab": {
          "base_uri": "https://localhost:8080/",
          "height": 206
        },
        "id": "6jHH581RhD0-",
        "outputId": "b794d9e7-3c47-47b3-b18a-efeb2f9ee262"
      },
      "execution_count": 40,
      "outputs": [
        {
          "output_type": "execute_result",
          "data": {
            "text/plain": [
              "   Unnamed: 0                         Title  \\\n",
              "0           0        Partner plank band row   \n",
              "1           1  Banded crunch isometric hold   \n",
              "2           2         FYR Banded Plank Jack   \n",
              "3           3                 Banded crunch   \n",
              "4           4                        Crunch   \n",
              "\n",
              "                                                Desc      Type    BodyPart  \\\n",
              "0  The partner plank band row is an abdominal exe...  Strength  Abdominals   \n",
              "1  The banded crunch isometric hold is an exercis...  Strength  Abdominals   \n",
              "2  The banded plank jack is a variation on the pl...  Strength  Abdominals   \n",
              "3  The banded crunch is an exercise targeting the...  Strength  Abdominals   \n",
              "4  The crunch is a popular core exercise targetin...  Strength  Abdominals   \n",
              "\n",
              "  Equipment         Level  Rating RatingDesc  \n",
              "0     Bands  Intermediate     0.0        NaN  \n",
              "1     Bands  Intermediate     NaN        NaN  \n",
              "2     Bands  Intermediate     NaN        NaN  \n",
              "3     Bands  Intermediate     NaN        NaN  \n",
              "4     Bands  Intermediate     NaN        NaN  "
            ],
            "text/html": [
              "\n",
              "  <div id=\"df-b5653253-535d-4a14-be9a-7f558ec7c515\" class=\"colab-df-container\">\n",
              "    <div>\n",
              "<style scoped>\n",
              "    .dataframe tbody tr th:only-of-type {\n",
              "        vertical-align: middle;\n",
              "    }\n",
              "\n",
              "    .dataframe tbody tr th {\n",
              "        vertical-align: top;\n",
              "    }\n",
              "\n",
              "    .dataframe thead th {\n",
              "        text-align: right;\n",
              "    }\n",
              "</style>\n",
              "<table border=\"1\" class=\"dataframe\">\n",
              "  <thead>\n",
              "    <tr style=\"text-align: right;\">\n",
              "      <th></th>\n",
              "      <th>Unnamed: 0</th>\n",
              "      <th>Title</th>\n",
              "      <th>Desc</th>\n",
              "      <th>Type</th>\n",
              "      <th>BodyPart</th>\n",
              "      <th>Equipment</th>\n",
              "      <th>Level</th>\n",
              "      <th>Rating</th>\n",
              "      <th>RatingDesc</th>\n",
              "    </tr>\n",
              "  </thead>\n",
              "  <tbody>\n",
              "    <tr>\n",
              "      <th>0</th>\n",
              "      <td>0</td>\n",
              "      <td>Partner plank band row</td>\n",
              "      <td>The partner plank band row is an abdominal exe...</td>\n",
              "      <td>Strength</td>\n",
              "      <td>Abdominals</td>\n",
              "      <td>Bands</td>\n",
              "      <td>Intermediate</td>\n",
              "      <td>0.0</td>\n",
              "      <td>NaN</td>\n",
              "    </tr>\n",
              "    <tr>\n",
              "      <th>1</th>\n",
              "      <td>1</td>\n",
              "      <td>Banded crunch isometric hold</td>\n",
              "      <td>The banded crunch isometric hold is an exercis...</td>\n",
              "      <td>Strength</td>\n",
              "      <td>Abdominals</td>\n",
              "      <td>Bands</td>\n",
              "      <td>Intermediate</td>\n",
              "      <td>NaN</td>\n",
              "      <td>NaN</td>\n",
              "    </tr>\n",
              "    <tr>\n",
              "      <th>2</th>\n",
              "      <td>2</td>\n",
              "      <td>FYR Banded Plank Jack</td>\n",
              "      <td>The banded plank jack is a variation on the pl...</td>\n",
              "      <td>Strength</td>\n",
              "      <td>Abdominals</td>\n",
              "      <td>Bands</td>\n",
              "      <td>Intermediate</td>\n",
              "      <td>NaN</td>\n",
              "      <td>NaN</td>\n",
              "    </tr>\n",
              "    <tr>\n",
              "      <th>3</th>\n",
              "      <td>3</td>\n",
              "      <td>Banded crunch</td>\n",
              "      <td>The banded crunch is an exercise targeting the...</td>\n",
              "      <td>Strength</td>\n",
              "      <td>Abdominals</td>\n",
              "      <td>Bands</td>\n",
              "      <td>Intermediate</td>\n",
              "      <td>NaN</td>\n",
              "      <td>NaN</td>\n",
              "    </tr>\n",
              "    <tr>\n",
              "      <th>4</th>\n",
              "      <td>4</td>\n",
              "      <td>Crunch</td>\n",
              "      <td>The crunch is a popular core exercise targetin...</td>\n",
              "      <td>Strength</td>\n",
              "      <td>Abdominals</td>\n",
              "      <td>Bands</td>\n",
              "      <td>Intermediate</td>\n",
              "      <td>NaN</td>\n",
              "      <td>NaN</td>\n",
              "    </tr>\n",
              "  </tbody>\n",
              "</table>\n",
              "</div>\n",
              "    <div class=\"colab-df-buttons\">\n",
              "\n",
              "  <div class=\"colab-df-container\">\n",
              "    <button class=\"colab-df-convert\" onclick=\"convertToInteractive('df-b5653253-535d-4a14-be9a-7f558ec7c515')\"\n",
              "            title=\"Convert this dataframe to an interactive table.\"\n",
              "            style=\"display:none;\">\n",
              "\n",
              "  <svg xmlns=\"http://www.w3.org/2000/svg\" height=\"24px\" viewBox=\"0 -960 960 960\">\n",
              "    <path d=\"M120-120v-720h720v720H120Zm60-500h600v-160H180v160Zm220 220h160v-160H400v160Zm0 220h160v-160H400v160ZM180-400h160v-160H180v160Zm440 0h160v-160H620v160ZM180-180h160v-160H180v160Zm440 0h160v-160H620v160Z\"/>\n",
              "  </svg>\n",
              "    </button>\n",
              "\n",
              "  <style>\n",
              "    .colab-df-container {\n",
              "      display:flex;\n",
              "      gap: 12px;\n",
              "    }\n",
              "\n",
              "    .colab-df-convert {\n",
              "      background-color: #E8F0FE;\n",
              "      border: none;\n",
              "      border-radius: 50%;\n",
              "      cursor: pointer;\n",
              "      display: none;\n",
              "      fill: #1967D2;\n",
              "      height: 32px;\n",
              "      padding: 0 0 0 0;\n",
              "      width: 32px;\n",
              "    }\n",
              "\n",
              "    .colab-df-convert:hover {\n",
              "      background-color: #E2EBFA;\n",
              "      box-shadow: 0px 1px 2px rgba(60, 64, 67, 0.3), 0px 1px 3px 1px rgba(60, 64, 67, 0.15);\n",
              "      fill: #174EA6;\n",
              "    }\n",
              "\n",
              "    .colab-df-buttons div {\n",
              "      margin-bottom: 4px;\n",
              "    }\n",
              "\n",
              "    [theme=dark] .colab-df-convert {\n",
              "      background-color: #3B4455;\n",
              "      fill: #D2E3FC;\n",
              "    }\n",
              "\n",
              "    [theme=dark] .colab-df-convert:hover {\n",
              "      background-color: #434B5C;\n",
              "      box-shadow: 0px 1px 3px 1px rgba(0, 0, 0, 0.15);\n",
              "      filter: drop-shadow(0px 1px 2px rgba(0, 0, 0, 0.3));\n",
              "      fill: #FFFFFF;\n",
              "    }\n",
              "  </style>\n",
              "\n",
              "    <script>\n",
              "      const buttonEl =\n",
              "        document.querySelector('#df-b5653253-535d-4a14-be9a-7f558ec7c515 button.colab-df-convert');\n",
              "      buttonEl.style.display =\n",
              "        google.colab.kernel.accessAllowed ? 'block' : 'none';\n",
              "\n",
              "      async function convertToInteractive(key) {\n",
              "        const element = document.querySelector('#df-b5653253-535d-4a14-be9a-7f558ec7c515');\n",
              "        const dataTable =\n",
              "          await google.colab.kernel.invokeFunction('convertToInteractive',\n",
              "                                                    [key], {});\n",
              "        if (!dataTable) return;\n",
              "\n",
              "        const docLinkHtml = 'Like what you see? Visit the ' +\n",
              "          '<a target=\"_blank\" href=https://colab.research.google.com/notebooks/data_table.ipynb>data table notebook</a>'\n",
              "          + ' to learn more about interactive tables.';\n",
              "        element.innerHTML = '';\n",
              "        dataTable['output_type'] = 'display_data';\n",
              "        await google.colab.output.renderOutput(dataTable, element);\n",
              "        const docLink = document.createElement('div');\n",
              "        docLink.innerHTML = docLinkHtml;\n",
              "        element.appendChild(docLink);\n",
              "      }\n",
              "    </script>\n",
              "  </div>\n",
              "\n",
              "\n",
              "<div id=\"df-be593f6b-24ed-45ed-a78d-69ae413dabd1\">\n",
              "  <button class=\"colab-df-quickchart\" onclick=\"quickchart('df-be593f6b-24ed-45ed-a78d-69ae413dabd1')\"\n",
              "            title=\"Suggest charts.\"\n",
              "            style=\"display:none;\">\n",
              "\n",
              "<svg xmlns=\"http://www.w3.org/2000/svg\" height=\"24px\"viewBox=\"0 0 24 24\"\n",
              "     width=\"24px\">\n",
              "    <g>\n",
              "        <path d=\"M19 3H5c-1.1 0-2 .9-2 2v14c0 1.1.9 2 2 2h14c1.1 0 2-.9 2-2V5c0-1.1-.9-2-2-2zM9 17H7v-7h2v7zm4 0h-2V7h2v10zm4 0h-2v-4h2v4z\"/>\n",
              "    </g>\n",
              "</svg>\n",
              "  </button>\n",
              "\n",
              "<style>\n",
              "  .colab-df-quickchart {\n",
              "      --bg-color: #E8F0FE;\n",
              "      --fill-color: #1967D2;\n",
              "      --hover-bg-color: #E2EBFA;\n",
              "      --hover-fill-color: #174EA6;\n",
              "      --disabled-fill-color: #AAA;\n",
              "      --disabled-bg-color: #DDD;\n",
              "  }\n",
              "\n",
              "  [theme=dark] .colab-df-quickchart {\n",
              "      --bg-color: #3B4455;\n",
              "      --fill-color: #D2E3FC;\n",
              "      --hover-bg-color: #434B5C;\n",
              "      --hover-fill-color: #FFFFFF;\n",
              "      --disabled-bg-color: #3B4455;\n",
              "      --disabled-fill-color: #666;\n",
              "  }\n",
              "\n",
              "  .colab-df-quickchart {\n",
              "    background-color: var(--bg-color);\n",
              "    border: none;\n",
              "    border-radius: 50%;\n",
              "    cursor: pointer;\n",
              "    display: none;\n",
              "    fill: var(--fill-color);\n",
              "    height: 32px;\n",
              "    padding: 0;\n",
              "    width: 32px;\n",
              "  }\n",
              "\n",
              "  .colab-df-quickchart:hover {\n",
              "    background-color: var(--hover-bg-color);\n",
              "    box-shadow: 0 1px 2px rgba(60, 64, 67, 0.3), 0 1px 3px 1px rgba(60, 64, 67, 0.15);\n",
              "    fill: var(--button-hover-fill-color);\n",
              "  }\n",
              "\n",
              "  .colab-df-quickchart-complete:disabled,\n",
              "  .colab-df-quickchart-complete:disabled:hover {\n",
              "    background-color: var(--disabled-bg-color);\n",
              "    fill: var(--disabled-fill-color);\n",
              "    box-shadow: none;\n",
              "  }\n",
              "\n",
              "  .colab-df-spinner {\n",
              "    border: 2px solid var(--fill-color);\n",
              "    border-color: transparent;\n",
              "    border-bottom-color: var(--fill-color);\n",
              "    animation:\n",
              "      spin 1s steps(1) infinite;\n",
              "  }\n",
              "\n",
              "  @keyframes spin {\n",
              "    0% {\n",
              "      border-color: transparent;\n",
              "      border-bottom-color: var(--fill-color);\n",
              "      border-left-color: var(--fill-color);\n",
              "    }\n",
              "    20% {\n",
              "      border-color: transparent;\n",
              "      border-left-color: var(--fill-color);\n",
              "      border-top-color: var(--fill-color);\n",
              "    }\n",
              "    30% {\n",
              "      border-color: transparent;\n",
              "      border-left-color: var(--fill-color);\n",
              "      border-top-color: var(--fill-color);\n",
              "      border-right-color: var(--fill-color);\n",
              "    }\n",
              "    40% {\n",
              "      border-color: transparent;\n",
              "      border-right-color: var(--fill-color);\n",
              "      border-top-color: var(--fill-color);\n",
              "    }\n",
              "    60% {\n",
              "      border-color: transparent;\n",
              "      border-right-color: var(--fill-color);\n",
              "    }\n",
              "    80% {\n",
              "      border-color: transparent;\n",
              "      border-right-color: var(--fill-color);\n",
              "      border-bottom-color: var(--fill-color);\n",
              "    }\n",
              "    90% {\n",
              "      border-color: transparent;\n",
              "      border-bottom-color: var(--fill-color);\n",
              "    }\n",
              "  }\n",
              "</style>\n",
              "\n",
              "  <script>\n",
              "    async function quickchart(key) {\n",
              "      const quickchartButtonEl =\n",
              "        document.querySelector('#' + key + ' button');\n",
              "      quickchartButtonEl.disabled = true;  // To prevent multiple clicks.\n",
              "      quickchartButtonEl.classList.add('colab-df-spinner');\n",
              "      try {\n",
              "        const charts = await google.colab.kernel.invokeFunction(\n",
              "            'suggestCharts', [key], {});\n",
              "      } catch (error) {\n",
              "        console.error('Error during call to suggestCharts:', error);\n",
              "      }\n",
              "      quickchartButtonEl.classList.remove('colab-df-spinner');\n",
              "      quickchartButtonEl.classList.add('colab-df-quickchart-complete');\n",
              "    }\n",
              "    (() => {\n",
              "      let quickchartButtonEl =\n",
              "        document.querySelector('#df-be593f6b-24ed-45ed-a78d-69ae413dabd1 button');\n",
              "      quickchartButtonEl.style.display =\n",
              "        google.colab.kernel.accessAllowed ? 'block' : 'none';\n",
              "    })();\n",
              "  </script>\n",
              "</div>\n",
              "    </div>\n",
              "  </div>\n"
            ]
          },
          "metadata": {},
          "execution_count": 40
        }
      ]
    },
    {
      "cell_type": "code",
      "source": [
        "lista_LEVEL = train2['Level'].tolist()\n",
        "u_levels = []\n",
        "for level in lista_LEVEL:\n",
        "  if level not in u_levels:\n",
        "    u_levels.append(level)\n",
        "\n",
        "print(u_levels)"
      ],
      "metadata": {
        "id": "zhEHtPUIMQNa",
        "colab": {
          "base_uri": "https://localhost:8080/"
        },
        "outputId": "329667b0-c812-4106-f97c-2a46b16217ca"
      },
      "execution_count": 43,
      "outputs": [
        {
          "output_type": "stream",
          "name": "stdout",
          "text": [
            "['Intermediate', 'Beginner', 'Expert']\n"
          ]
        }
      ]
    },
    {
      "cell_type": "code",
      "source": [
        "lista_Type = train2['Type'].tolist()\n",
        "u_TYPE = []\n",
        "for types in lista_Type:\n",
        "  if types not in u_TYPE:\n",
        "    u_TYPE.append(types)\n",
        "\n",
        "print(u_TYPE)"
      ],
      "metadata": {
        "id": "ra1p8gbPPSzG",
        "colab": {
          "base_uri": "https://localhost:8080/"
        },
        "outputId": "652932bf-6a39-4a94-8ea2-f4dc13982377"
      },
      "execution_count": 44,
      "outputs": [
        {
          "output_type": "stream",
          "name": "stdout",
          "text": [
            "['Strength', 'Plyometrics', 'Cardio', 'Stretching', 'Powerlifting', 'Strongman', 'Olympic Weightlifting']\n"
          ]
        }
      ]
    },
    {
      "cell_type": "code",
      "source": [
        "lista_Equipment = train2['Equipment'].tolist()\n",
        "u_Equipment = []\n",
        "for equipment in lista_Equipment:\n",
        "  if equipment not in u_Equipment:\n",
        "    u_Equipment.append(equipment)\n",
        "\n",
        "print(u_Equipment)"
      ],
      "metadata": {
        "colab": {
          "base_uri": "https://localhost:8080/"
        },
        "id": "PnZOeMzsohIZ",
        "outputId": "c1f8c18f-1854-4e9a-b49d-6c9115177d6f"
      },
      "execution_count": 57,
      "outputs": [
        {
          "output_type": "stream",
          "name": "stdout",
          "text": [
            "['Bands', 'Barbell', 'Kettlebells', 'Dumbbell', 'Other', 'Cable', 'Machine', 'Body Only', 'Medicine Ball', 'None', 'Exercise Ball', 'Foam Roll', 'E-Z Curl Bar']\n"
          ]
        }
      ]
    },
    {
      "cell_type": "code",
      "source": [
        "lista_BodyPart = train2['BodyPart'].tolist()\n",
        "u_BodyPart = []\n",
        "for bodyPart in lista_BodyPart:\n",
        "  if bodyPart not in u_BodyPart:\n",
        "    u_BodyPart.append(bodyPart)\n",
        "\n",
        "print(u_BodyPart)"
      ],
      "metadata": {
        "colab": {
          "base_uri": "https://localhost:8080/"
        },
        "id": "JlhSQa8jh3ut",
        "outputId": "7935ff52-d0a2-4617-ee34-79c6db65420d"
      },
      "execution_count": 45,
      "outputs": [
        {
          "output_type": "stream",
          "name": "stdout",
          "text": [
            "['Abdominals', 'Adductors', 'Abductors', 'Biceps', 'Calves', 'Chest', 'Forearms', 'Glutes', 'Hamstrings', 'Lats', 'Lower Back', 'Middle Back', 'Traps', 'Neck', 'Quadriceps', 'Shoulders', 'Triceps']\n"
          ]
        }
      ]
    },
    {
      "cell_type": "code",
      "source": [
        "lista_rating = train2['Rating'].tolist()\n",
        "u_Rating = []\n",
        "for rating in lista_rating:\n",
        "  if rating >= 0.0:\n",
        "     if rating not in u_Rating:\n",
        "        u_Rating.append(rating)\n",
        "\n",
        "print(u_Rating)"
      ],
      "metadata": {
        "colab": {
          "base_uri": "https://localhost:8080/"
        },
        "id": "KIxw-2lej3qb",
        "outputId": "507f155a-2cd9-4353-9123-a2bd7f7326a5"
      },
      "execution_count": 55,
      "outputs": [
        {
          "output_type": "stream",
          "name": "stdout",
          "text": [
            "[0.0, 8.9, 8.5, 8.3, 7.0, 4.7, 7.7, 7.3, 9.3, 8.6, 9.5, 9.2, 9.0, 8.8, 8.4, 8.0, 9.1, 8.2, 8.1, 7.9, 5.0, 8.7, 7.8, 7.5, 7.4, 6.9, 6.5, 3.9, 6.4, 4.0, 2.8, 6.7, 3.8, 2.4, 1.6, 7.1, 3.6, 3.2, 5.8, 7.6, 7.2, 4.8, 3.3, 1.0, 6.0, 5.3, 2.7, 6.3, 5.6, 4.1, 4.9, 4.2, 5.5, 5.9, 3.0, 9.4, 6.2, 9.6, 2.5, 5.2, 6.6, 3.5, 3.1, 4.4, 4.3, 5.4, 4.5, 5.1, 5.7, 6.8, 3.4, 6.1]\n"
          ]
        }
      ]
    },
    {
      "cell_type": "markdown",
      "source": [
        "**Atributos relacionados con la alimentacion:**\n",
        "\n",
        "- *Frequent consumption of high caloric food (FAVC)*\n",
        "-- YES\n",
        "-- NO\n",
        "\n",
        "\n",
        "- *Frequency of consumption of vegetables (FCVC)*\n",
        "-- NUMERIC\n",
        "\n",
        "\n",
        "- *Number of main meals (NCP)*\n",
        "-- NUMERIC\n",
        "\n",
        "- *Consumption of food between meals (CAEC)*\n",
        "-- NO\n",
        "-- SOMETIMES\n",
        "-- FREQUENTLY\n",
        "-- ALWAYS\n",
        "\n",
        "- *Consumption of water daily (CH20)*\n",
        "-- NUMERIC\n",
        "\n",
        "- *Consumption of alcohol (CALC)*\n",
        "-- NO\n",
        "-- SOMETIMES\n",
        "-- FRECUENTLY\n",
        "-- ALWAYS"
      ],
      "metadata": {
        "id": "gIWPH-H5oRbd"
      }
    },
    {
      "cell_type": "code",
      "source": [],
      "metadata": {
        "id": "Y1YwRtLpQ53V"
      },
      "execution_count": null,
      "outputs": []
    }
  ]
}