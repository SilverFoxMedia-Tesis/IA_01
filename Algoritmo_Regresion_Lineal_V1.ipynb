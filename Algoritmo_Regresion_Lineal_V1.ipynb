{
  "nbformat": 4,
  "nbformat_minor": 0,
  "metadata": {
    "colab": {
      "provenance": [],
      "include_colab_link": true
    },
    "kernelspec": {
      "name": "python3",
      "display_name": "Python 3"
    },
    "language_info": {
      "name": "python"
    }
  },
  "cells": [
    {
      "cell_type": "markdown",
      "metadata": {
        "id": "view-in-github",
        "colab_type": "text"
      },
      "source": [
        "<a href=\"https://colab.research.google.com/github/julissaponte/CodeChallenge/blob/main/Algoritmo_Regresion_Lineal_V1.ipynb\" target=\"_parent\"><img src=\"https://colab.research.google.com/assets/colab-badge.svg\" alt=\"Open In Colab\"/></a>"
      ]
    },
    {
      "cell_type": "code",
      "execution_count": 1,
      "metadata": {
        "id": "Gm8KAAwLncN2"
      },
      "outputs": [],
      "source": [
        "import pandas as pd\n",
        "import numpy as np\n",
        "import matplotlib.pyplot as plt"
      ]
    },
    {
      "cell_type": "code",
      "source": [
        "df = pd.read_csv('/ObesityDataSet_raw_and_data_sinthetic.csv')\n",
        "\n",
        "train = df[:2000]\n",
        "test = df[2000:]\n",
        "\n",
        "train.to_csv('train.csv', index=False)\n",
        "test.to_csv('test.csv', index=False)\n",
        "\n",
        "train = pd.read_csv('train.csv')\n",
        "test = pd.read_csv('test.csv')"
      ],
      "metadata": {
        "id": "hdmEoZyLzGdN"
      },
      "execution_count": 153,
      "outputs": []
    },
    {
      "cell_type": "markdown",
      "source": [
        "VARIABLES POR INDICE DE MASA CORPORAL\n",
        "\n",
        "IMC = ALTURA / PESO^2\n",
        "\n",
        "Debajo del peso ideal: Menos de 18.5\n",
        "\n",
        "Normal: 18.5 - 24.9\n",
        "\n",
        "Sobrepeso: 25.0 - 29.9\n",
        "\n",
        "Obesidad 1: 30.0 - 34.9\n",
        "\n",
        "Obesidad 2: 35.0 - 39.9\n",
        "\n",
        "Obesidad 3: Más de 40"
      ],
      "metadata": {
        "id": "Yoq9yzwko7nS"
      }
    },
    {
      "cell_type": "markdown",
      "source": [
        "**Atributos relacionados con el peso:**\n",
        "\n",
        "- *Calories consumption monitoring (SCC)*\n",
        "-- YES\n",
        "-- NO\n",
        "\n",
        "\n",
        "- *Physical activity frequency (FAF)*\n",
        "-- NUMERIC\n",
        "\n",
        "- *Time using technology devices (TUE)*\n",
        "-- NUMERIC\n",
        "\n",
        "- *Transportation used (MTRANS)*\n",
        "-- AUTOMOBILE\n",
        "-- MOTORBIKE\n",
        "-- BIKE\n",
        "-- PUBLIC_TRANSPORTATION\n",
        "-- WALKING"
      ],
      "metadata": {
        "id": "eDBeIMrpQh9Y"
      }
    },
    {
      "cell_type": "markdown",
      "source": [
        "-11 <= BEGINNER <= -7\n",
        "\n",
        "-6 <= INTERMEDIATE <= -2\n",
        "\n",
        "-1 <= EXPERT <= 3"
      ],
      "metadata": {
        "id": "r2CPZQVa2Juz"
      }
    },
    {
      "cell_type": "code",
      "source": [
        "estadoxvalores = {\n",
        "    \"Insufficient_Weight\": 0,\n",
        "    \"Normal_Weight\": 0,\n",
        "    \"Overweight_Level_I\": -1,\n",
        "    \"Overweight_Level_II\": -2,\n",
        "    \"Obesity_Type_I\": -3,\n",
        "    \"Obesity_Type_II\": -4,\n",
        "    \"Obesity_Type_III\": -5,\n",
        "}\n",
        "FAFxvalores = {\n",
        "    3 : 1,\n",
        "    2 : 0,\n",
        "    1 : -1,\n",
        "    0 : -2,\n",
        "}\n",
        "TUExvalores = {\n",
        "    0 : 0,\n",
        "    1 : -1,\n",
        "    2 : -2,\n",
        "}\n",
        "MTRANSxvalores = {\n",
        "    \"Bike\": 2,\n",
        "    \"Walking\": 1,\n",
        "    \"Public_Transportation\": 0,\n",
        "    \"Motorbike\": -1,\n",
        "    \"Automobile\": -2,\n",
        "}\n",
        "def encontrar_nivel(puntos_nivel):\n",
        "    if isinstance(puntos_nivel, float):\n",
        "      puntos_nivel = int(puntos_nivel)\n",
        "    if -11 <= puntos_nivel <= -7:\n",
        "        return \"Beginner\"\n",
        "    elif -6 <= puntos_nivel <= -2:\n",
        "        return \"Intermediate\"\n",
        "    elif -1 <= puntos_nivel <= 3:\n",
        "        return \"Expert\"\n",
        "    else:\n",
        "        return \"Desconocido\""
      ],
      "metadata": {
        "id": "Aq43XLUL1-EK"
      },
      "execution_count": 180,
      "outputs": []
    },
    {
      "cell_type": "code",
      "source": [
        "train.drop(['Gender', 'Age', 'Height', 'Weight', 'family_history_with_overweight', 'FAVC', 'FCVC', 'NCP', 'CAEC', 'SMOKE', 'CH2O', 'SCC', 'CALC'], axis=1, inplace=True)\n",
        "test.drop(['Gender', 'Age', 'Height', 'Weight', 'family_history_with_overweight', 'FAVC', 'FCVC', 'NCP', 'CAEC', 'SMOKE', 'CH2O', 'SCC', 'CALC'], axis=1, inplace=True)"
      ],
      "metadata": {
        "id": "dhWOKASiF2pY"
      },
      "execution_count": 155,
      "outputs": []
    },
    {
      "cell_type": "code",
      "source": [
        "train['FAF'] = train['FAF'].apply(lambda x: TUExvalores.get(int(x), 0))\n",
        "train['TUE'] = train['TUE'].apply(lambda x: FAFxvalores.get(int(x), 2))\n",
        "train['NObeyesdad'] = train['NObeyesdad'].replace(estadoxvalores)\n",
        "train['MTRANS'] = train['MTRANS'].replace(MTRANSxvalores)\n",
        "train['Puntos_Nivel'] = train['MTRANS'] + train['NObeyesdad'] + train['TUE'] + train['FAF']"
      ],
      "metadata": {
        "id": "xMIRulEwYJdF"
      },
      "execution_count": 156,
      "outputs": []
    },
    {
      "cell_type": "code",
      "source": [
        "test['FAF'] = test['FAF'].apply(lambda x: TUExvalores.get(int(x), 0))\n",
        "test['TUE'] = test['TUE'].apply(lambda x: FAFxvalores.get(int(x), 2))\n",
        "test['NObeyesdad'] = test['NObeyesdad'].replace(estadoxvalores)\n",
        "test['MTRANS'] = test['MTRANS'].replace(MTRANSxvalores)"
      ],
      "metadata": {
        "id": "ObzQ_haqerTH"
      },
      "execution_count": 157,
      "outputs": []
    },
    {
      "cell_type": "code",
      "source": [
        "from sklearn.linear_model import LinearRegression\n",
        "import pandas as pd\n",
        "from sklearn.compose import ColumnTransformer\n",
        "from sklearn.preprocessing import OneHotEncoder\n",
        "from sklearn.preprocessing import OrdinalEncoder\n",
        "from sklearn.metrics import mean_squared_error, r2_score\n",
        "\n",
        "X_train = train.drop('Puntos_Nivel', axis=1) # datos previos\n",
        "Y_train = train['Puntos_Nivel'] # resultado\n",
        "\n",
        "# Crear una instancia del modelo de regresión lineal\n",
        "model = LinearRegression()\n",
        "# Entrenar el modelo utilizando los datos de entrenamiento codificados\n",
        "model.fit(X_train, Y_train)\n",
        "# Realizar predicciones en el conjunto de datos de prueba codificado\n",
        "Y_pred = model.predict(test)"
      ],
      "metadata": {
        "id": "VTtq4it7MCcv"
      },
      "execution_count": 203,
      "outputs": []
    },
    {
      "cell_type": "code",
      "source": [
        "Y_pred = Y_pred.tolist()\n",
        "Y_pred = pd.DataFrame(Y_pred, columns=['Nivel'])\n",
        "# Y_pred= Y_pred['Nivel'].map(encontrar_nivel)"
      ],
      "metadata": {
        "id": "pzAWMppARxKQ"
      },
      "execution_count": 204,
      "outputs": []
    },
    {
      "cell_type": "code",
      "source": [
        "test2 = pd.read_csv('test.csv') # test data with expected results\n",
        "test2['Puntos_Nivel'] = test2['MTRANS'].map(MTRANSxvalores) + test2['NObeyesdad'].map(estadoxvalores) + test2['TUE'].apply(lambda x: TUExvalores.get(int(x), 0)) + test2['FAF'].apply(lambda x: FAFxvalores.get(int(x), 2))\n",
        "# expected = test2['Puntos_Nivel'].map(encontrar_nivel)"
      ],
      "metadata": {
        "id": "Wa5A5KpQPpwf"
      },
      "execution_count": 205,
      "outputs": []
    },
    {
      "cell_type": "code",
      "source": [
        "# Calcular el error cuadrático medio\n",
        "mse = mean_squared_error(test2['Puntos_Nivel'], Y_pred)\n",
        "\n",
        "# Calcular el coeficiente de determinación\n",
        "r2 = r2_score(test2['Puntos_Nivel'], Y_pred)\n",
        "\n",
        "# Imprimir las métricas de evaluación\n",
        "def toPercent(number):\n",
        "  result = number * 100 / 1\n",
        "  return format(result, \".2f\") + \"%\"\n",
        "\n",
        "print(\"Error cuadrático medio:\", toPercent(mse))\n",
        "print(\"Coeficiente de determinación:\", toPercent(r2))"
      ],
      "metadata": {
        "id": "pCQMxDafWNiA",
        "outputId": "fe91c82f-ed34-4fd5-97b8-5071154d340d",
        "colab": {
          "base_uri": "https://localhost:8080/"
        }
      },
      "execution_count": 211,
      "outputs": [
        {
          "output_type": "stream",
          "name": "stdout",
          "text": [
            "Error cuadrático medio: 0.69%\n",
            "Coeficiente de determinación: 97.18%\n"
          ]
        }
      ]
    }
  ]
}