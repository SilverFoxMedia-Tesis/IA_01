{
  "nbformat": 4,
  "nbformat_minor": 0,
  "metadata": {
    "colab": {
      "provenance": [],
      "authorship_tag": "ABX9TyNj2W2mdFLhCtLrvwWbP6GR",
      "include_colab_link": true
    },
    "kernelspec": {
      "name": "python3",
      "display_name": "Python 3"
    },
    "language_info": {
      "name": "python"
    }
  },
  "cells": [
    {
      "cell_type": "markdown",
      "metadata": {
        "id": "view-in-github",
        "colab_type": "text"
      },
      "source": [
        "<a href=\"https://colab.research.google.com/github/SilverFoxMedia-Tesis/IA_01/blob/main/Algoritmo_Regresion_Lineal_VJosue.ipynb\" target=\"_parent\"><img src=\"https://colab.research.google.com/assets/colab-badge.svg\" alt=\"Open In Colab\"/></a>"
      ]
    },
    {
      "cell_type": "code",
      "source": [
        "import pandas as pd\n",
        "import numpy as np\n",
        "import matplotlib.pyplot as plt\n",
        "from sklearn.linear_model import LinearRegression\n",
        "from sklearn.model_selection import train_test_split\n",
        "from sklearn.metrics import mean_squared_error, mean_absolute_error, r2_score, accuracy_score, precision_score"
      ],
      "metadata": {
        "id": "Z__NHXhlKbv1"
      },
      "execution_count": 1,
      "outputs": []
    },
    {
      "cell_type": "code",
      "source": [
        "# Diccionarios de asignación de pesos\n",
        "estadoxvalores = {\n",
        "    \"Insufficient_Weight\": 0,\n",
        "    \"Normal_Weight\": 0,\n",
        "    \"Overweight_Level_I\": -1,\n",
        "    \"Overweight_Level_II\": -2,\n",
        "    \"Obesity_Type_I\": -3,\n",
        "    \"Obesity_Type_II\": -4,\n",
        "    \"Obesity_Type_III\": -5,\n",
        "}\n",
        "FAFxvalores = {\n",
        "    3: 1,\n",
        "    2: 0,\n",
        "    1: -1,\n",
        "    0: -2,\n",
        "}\n",
        "TUExvalores = {\n",
        "    0: 0,\n",
        "    1: -1,\n",
        "    2: -2,\n",
        "}\n",
        "MTRANSxvalores = {\n",
        "    \"Bike\": 2,\n",
        "    \"Walking\": 1,\n",
        "    \"Public_Transportation\": 0,\n",
        "    \"Motorbike\": -1,\n",
        "    \"Automobile\": -2,\n",
        "}\n"
      ],
      "metadata": {
        "id": "dVKkxnWQKdLU"
      },
      "execution_count": 2,
      "outputs": []
    },
    {
      "cell_type": "code",
      "source": [
        "# Lectura de datos\n",
        "data = pd.read_csv('/ObesityDataSet_raw_and_data_sinthetic.csv')\n",
        "\n",
        "# Tomar los primeros 1000 datos como conjunto de entrenamiento\n",
        "train = data.iloc[:1000]\n",
        "\n",
        "# Tomar los últimos 1000 datos como conjunto de prueba\n",
        "test = data.iloc[-1000:]"
      ],
      "metadata": {
        "id": "3rMYuC5IKjyc"
      },
      "execution_count": 3,
      "outputs": []
    },
    {
      "cell_type": "code",
      "source": [
        "# Asigna pesos a las variables y crea nuevas columnas\n",
        "train['Puntos_Nivel'] = train['MTRANS'].map(MTRANSxvalores) + train['NObeyesdad'].map(estadoxvalores) + train['TUE'].apply(lambda x: TUExvalores.get(int(x), 0)) + train['FAF'].apply(lambda x: FAFxvalores.get(int(x), 2))\n",
        "\n",
        "def encontrar_nivel(puntos_nivel):\n",
        "    if -11 <= puntos_nivel <= -7:\n",
        "        return \"Beginner\"\n",
        "    elif -6 <= puntos_nivel <= -2:\n",
        "        return \"Intermediate\"\n",
        "    elif -1 <= puntos_nivel <= 3:\n",
        "        return \"Expert\"\n",
        "    else:\n",
        "        return \"Desconocido\"\n",
        "\n",
        "train['Nivel'] = train['Puntos_Nivel'].apply(encontrar_nivel)"
      ],
      "metadata": {
        "colab": {
          "base_uri": "https://localhost:8080/"
        },
        "id": "EISzrK46Km7M",
        "outputId": "5d8f7eba-a17e-472b-a3a9-f94efa08c078"
      },
      "execution_count": 4,
      "outputs": [
        {
          "output_type": "stream",
          "name": "stderr",
          "text": [
            "<ipython-input-4-c7a4ebb7f47d>:2: SettingWithCopyWarning: \n",
            "A value is trying to be set on a copy of a slice from a DataFrame.\n",
            "Try using .loc[row_indexer,col_indexer] = value instead\n",
            "\n",
            "See the caveats in the documentation: https://pandas.pydata.org/pandas-docs/stable/user_guide/indexing.html#returning-a-view-versus-a-copy\n",
            "  train['Puntos_Nivel'] = train['MTRANS'].map(MTRANSxvalores) + train['NObeyesdad'].map(estadoxvalores) + train['TUE'].apply(lambda x: TUExvalores.get(int(x), 0)) + train['FAF'].apply(lambda x: FAFxvalores.get(int(x), 2))\n",
            "<ipython-input-4-c7a4ebb7f47d>:14: SettingWithCopyWarning: \n",
            "A value is trying to be set on a copy of a slice from a DataFrame.\n",
            "Try using .loc[row_indexer,col_indexer] = value instead\n",
            "\n",
            "See the caveats in the documentation: https://pandas.pydata.org/pandas-docs/stable/user_guide/indexing.html#returning-a-view-versus-a-copy\n",
            "  train['Nivel'] = train['Puntos_Nivel'].apply(encontrar_nivel)\n"
          ]
        }
      ]
    },
    {
      "cell_type": "code",
      "source": [
        "# Selección de columnas relevantes (tanto numéricas como categóricas)\n",
        "columnas_numericas = ['TUE', 'FAF']\n",
        "columnas_categoricas = ['MTRANS', 'NObeyesdad']\n",
        "\n",
        "# Codificación one-hot para las columnas categóricas\n",
        "train_encoded = pd.get_dummies(train[columnas_categoricas], columns=columnas_categoricas)\n",
        "\n",
        "# Convertir FAF y TUE en enteros\n",
        "train['FAF'] = train['FAF'].astype(int)\n",
        "train['TUE'] = train['TUE'].astype(int)"
      ],
      "metadata": {
        "colab": {
          "base_uri": "https://localhost:8080/"
        },
        "id": "7Y5wWpQTMDc8",
        "outputId": "4182f022-c153-4afe-a025-9f9c6851a282"
      },
      "execution_count": 5,
      "outputs": [
        {
          "output_type": "stream",
          "name": "stderr",
          "text": [
            "<ipython-input-5-37640b2c53a1>:9: SettingWithCopyWarning: \n",
            "A value is trying to be set on a copy of a slice from a DataFrame.\n",
            "Try using .loc[row_indexer,col_indexer] = value instead\n",
            "\n",
            "See the caveats in the documentation: https://pandas.pydata.org/pandas-docs/stable/user_guide/indexing.html#returning-a-view-versus-a-copy\n",
            "  train['FAF'] = train['FAF'].astype(int)\n",
            "<ipython-input-5-37640b2c53a1>:10: SettingWithCopyWarning: \n",
            "A value is trying to be set on a copy of a slice from a DataFrame.\n",
            "Try using .loc[row_indexer,col_indexer] = value instead\n",
            "\n",
            "See the caveats in the documentation: https://pandas.pydata.org/pandas-docs/stable/user_guide/indexing.html#returning-a-view-versus-a-copy\n",
            "  train['TUE'] = train['TUE'].astype(int)\n"
          ]
        }
      ]
    },
    {
      "cell_type": "code",
      "source": [
        "# Concatenar las columnas numéricas y categóricas codificadas\n",
        "X_train = pd.concat([train_encoded, train[columnas_numericas]], axis=1)"
      ],
      "metadata": {
        "id": "f6goXllSMKiU"
      },
      "execution_count": 6,
      "outputs": []
    },
    {
      "cell_type": "code",
      "source": [
        "# Variable objetivo\n",
        "y = train['Puntos_Nivel']\n",
        "\n",
        "# Seleccionar un subconjunto de 500 filas\n",
        "train_subset = X_train.sample(n=500, random_state=42)\n",
        "y_subset = y[train_subset.index]\n",
        "\n",
        "# División de datos en conjuntos de entrenamiento y prueba\n",
        "X_train, X_test, y_train, y_test = train_test_split(train_subset, y_subset, test_size=0.2, random_state=42)"
      ],
      "metadata": {
        "id": "ke0WYC40MLbM"
      },
      "execution_count": 7,
      "outputs": []
    },
    {
      "cell_type": "code",
      "source": [
        "# Creación del modelo de regresión lineal\n",
        "regression = LinearRegression()\n",
        "\n",
        "# Entrenamiento del modelo\n",
        "regression.fit(X_train, y_train)\n",
        "\n",
        "# Predicciones en los datos de prueba\n",
        "y_pred = regression.predict(X_test)"
      ],
      "metadata": {
        "id": "E5NurkljMfjk"
      },
      "execution_count": 8,
      "outputs": []
    },
    {
      "cell_type": "code",
      "source": [
        "# Evaluación del rendimiento\n",
        "mse = mean_squared_error(y_test, y_pred)\n",
        "mae = mean_absolute_error(y_test, y_pred)\n",
        "r2 = r2_score(y_test, y_pred)\n",
        "\n",
        "# Cálculo de la exactitud y precisión para problemas de clasificación\n",
        "y_pred_classification = [encontrar_nivel(p) for p in y_pred]\n",
        "y_test_classification = [encontrar_nivel(p) for p in y_test]\n",
        "accuracy = accuracy_score(y_test_classification, y_pred_classification)\n",
        "precision = precision_score(y_test_classification, y_pred_classification, average='weighted')"
      ],
      "metadata": {
        "id": "YGBfi1MwMlRe"
      },
      "execution_count": 9,
      "outputs": []
    },
    {
      "cell_type": "code",
      "source": [
        "#Muestra de metricas de machine learning\n",
        "print(f\"Mean Squared Error: {mse}\")\n",
        "print(f\"Mean Absolute Error: {mae}\")\n",
        "print(f\"R-cuadrado: {r2}\")\n",
        "print(f\"Exactitud: {accuracy}\")\n",
        "print(f\"Precisión: {precision}\")"
      ],
      "metadata": {
        "colab": {
          "base_uri": "https://localhost:8080/"
        },
        "id": "211SNzRHMpkd",
        "outputId": "abc43ebd-29f8-4f2a-8090-60b1bb084648"
      },
      "execution_count": 12,
      "outputs": [
        {
          "output_type": "stream",
          "name": "stdout",
          "text": [
            "Mean Squared Error: 6.920282291051327e-30\n",
            "Mean Absolute Error: 2.162714451969805e-15\n",
            "R-cuadrado: 1.0\n",
            "Exactitud: 0.92\n",
            "Precisión: 1.0\n"
          ]
        }
      ]
    },
    {
      "cell_type": "code",
      "source": [],
      "metadata": {
        "id": "6GT66fHoPAie"
      },
      "execution_count": null,
      "outputs": []
    },
    {
      "cell_type": "code",
      "source": [
        "# Gráfico de dispersión para comparar predicciones con valores reales (MSE)\n",
        "plt.figure(figsize=(8, 6))\n",
        "plt.scatter(y_test, y_pred)\n",
        "plt.xlabel(\"Valores Reales\")\n",
        "plt.ylabel(\"Predicciones\")\n",
        "plt.title(\"Gráfico de Dispersión: Valores Reales vs. Predicciones (MSE)\")\n",
        "plt.grid(True)\n",
        "plt.show()"
      ],
      "metadata": {
        "id": "OfceS8YBMtaj"
      },
      "execution_count": null,
      "outputs": []
    },
    {
      "cell_type": "code",
      "source": [
        "# Gráficos similares al de MSE para MAE, R^2, Exactitud y Precisión\n",
        "plt.figure(figsize=(12, 4))\n",
        "plt.subplot(1, 4, 1)\n",
        "plt.scatter(y_test, y_pred)\n",
        "plt.xlabel(\"Valores Reales\")\n",
        "plt.ylabel(\"Predicciones\")\n",
        "plt.title(\"Gráfico de Dispersión: Valores Reales vs. Predicciones (MAE)\")\n",
        "plt.grid(True)\n",
        "plt.show()"
      ],
      "metadata": {
        "id": "FOcJ1l4-MvCT"
      },
      "execution_count": null,
      "outputs": []
    },
    {
      "cell_type": "code",
      "source": [
        "plt.subplot(1, 4, 2)\n",
        "plt.scatter(y_test, y_pred)\n",
        "plt.xlabel(\"Valores Reales\")\n",
        "plt.ylabel(\"Predicciones\")\n",
        "plt.title(\"Gráfico de Dispersión: Valores Reales vs. Predicciones (R^2)\")\n",
        "plt.grid(True)\n",
        "plt.show()"
      ],
      "metadata": {
        "id": "sgIAaz63Mwhz"
      },
      "execution_count": null,
      "outputs": []
    },
    {
      "cell_type": "code",
      "source": [
        "plt.subplot(1, 4, 3)\n",
        "plt.scatter(y_test_classification, y_pred_classification)\n",
        "plt.xlabel(\"Valores Reales (Categoría)\")\n",
        "plt.ylabel(\"Predicciones (Categoría)\")\n",
        "plt.title(\"Gráfico de Dispersión: Clasificación (Exactitud)\")\n",
        "plt.grid(True)\n",
        "plt.show()"
      ],
      "metadata": {
        "id": "wiESLOgWMxmz"
      },
      "execution_count": null,
      "outputs": []
    },
    {
      "cell_type": "code",
      "source": [
        "plt.subplot(1, 4, 4)\n",
        "plt.scatter(y_test_classification, y_pred_classification)\n",
        "plt.xlabel(\"Valores Reales (Categoría)\")\n",
        "plt.ylabel(\"Predicciones (Categoría)\")\n",
        "plt.title(\"Gráfico de Dispersión: Clasificación (Precisión)\")\n",
        "plt.grid(True)\n",
        "plt.show()"
      ],
      "metadata": {
        "id": "cYqyNlqsMyqz"
      },
      "execution_count": null,
      "outputs": []
    }
  ]
}